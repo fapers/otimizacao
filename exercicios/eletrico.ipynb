{
 "cells": [
  {
   "cell_type": "code",
   "execution_count": 64,
   "source": [
    "from pandas.core.algorithms import SelectN\r\n",
    "import pyomo.environ as pyo, numpy as np, pandas as pd\r\n",
    "from pyomo.environ import *\r\n",
    "from pyomo.opt import SolverFactory"
   ],
   "outputs": [],
   "metadata": {}
  },
  {
   "cell_type": "code",
   "execution_count": 65,
   "source": [
    "# entradas\r\n",
    "barras = pd.read_excel('sist_eletrico.xlsx', sheet_name='barras')\r\n",
    "geracao = pd.read_excel('sist_eletrico.xlsx', sheet_name='geracao')\r\n",
    "carga = pd.read_excel('sist_eletrico.xlsx', sheet_name='carga')\r\n",
    "linha = pd.read_excel('sist_eletrico.xlsx', sheet_name='linha')\r\n",
    "Nb = len(barras)\r\n",
    "Ng = len(geracao)\r\n",
    "Nd = len(carga)\r\n",
    "Nl = len(linha)"
   ],
   "outputs": [],
   "metadata": {}
  },
  {
   "cell_type": "code",
   "execution_count": 66,
   "source": [
    "# modelo\r\n",
    "model = pyo.ConcreteModel()\r\n",
    "model.Pg = pyo.Var(range(Ng))\r\n",
    "model.Pl = pyo.Var(range(Nl))\r\n",
    "model.teta = pyo.Var(range(Nb), bounds=(-np.pi, np.pi))\r\n",
    "Pg = model.Pg\r\n",
    "Pl = model.Pl\r\n",
    "teta = model.teta"
   ],
   "outputs": [],
   "metadata": {}
  },
  {
   "cell_type": "code",
   "execution_count": 67,
   "source": [
    "# objetivo\r\n",
    "model.obj = pyo.Objective(expr=sum([Pg[g]*geracao.custo[g] for g in geracao.index]), sense=minimize)"
   ],
   "outputs": [],
   "metadata": {}
  },
  {
   "cell_type": "code",
   "execution_count": 68,
   "source": [
    "# balanço de potência\r\n",
    "model.balanco = pyo.ConstraintList()\r\n",
    "for n in barras.index:\r\n",
    "    sum_Pg = sum([Pg[g] for g in geracao.index[geracao.barra==n]])\r\n",
    "    sum_Pls = sum([Pl[l] for l in linha.index[linha.barra_de==n]])\r\n",
    "    sum_Plr = sum([Pl[l] for l in linha.index[linha.barra_para==n]])\r\n",
    "    sum_Pd = sum([carga.carga[d] for d in carga.index[carga.barra==n]])\r\n",
    "    model.balanco.add(expr=sum_Pg - sum_Pls + sum_Plr == sum_Pd)"
   ],
   "outputs": [],
   "metadata": {}
  },
  {
   "cell_type": "code",
   "execution_count": 69,
   "source": [
    "# fluxo de potência\r\n",
    "model.fluxo = pyo.ConstraintList()\r\n",
    "for l in linha.index:\r\n",
    "    Bl = linha.Bl[l]\r\n",
    "    n_send = linha.barra_de[l]\r\n",
    "    n_rec = linha.barra_para[l]\r\n",
    "    delta_teta = teta[n_send] - teta[n_rec]\r\n",
    "    model.fluxo.add(expr=Pl[l] == Bl*delta_teta)"
   ],
   "outputs": [],
   "metadata": {}
  },
  {
   "cell_type": "code",
   "execution_count": 70,
   "source": [
    "# Restrições limites gerador\r\n",
    "model.limger = pyo.ConstraintList()\r\n",
    "for g in geracao.index:\r\n",
    "    model.limger.add(inequality(0,Pg[g], geracao.pgmax[g]))"
   ],
   "outputs": [],
   "metadata": {}
  },
  {
   "cell_type": "code",
   "execution_count": 71,
   "source": [
    "# limites fluxo de potência\r\n",
    "model.limflux = pyo.ConstraintList()\r\n",
    "for l in linha.index:\r\n",
    "    model.limflux.add(inequality(-linha.plmax[l], Pl[l], linha.plmax[l]))"
   ],
   "outputs": [],
   "metadata": {}
  },
  {
   "cell_type": "code",
   "execution_count": 72,
   "source": [
    "# referência\r\n",
    "model.ref = pyo.Constraint(expr= teta[0]==0)"
   ],
   "outputs": [],
   "metadata": {}
  },
  {
   "cell_type": "code",
   "execution_count": 73,
   "source": [
    "# solve\r\n",
    "opt = SolverFactory('gurobi')\r\n",
    "opt.solve(model)"
   ],
   "outputs": [
    {
     "output_type": "execute_result",
     "data": {
      "text/plain": [
       "{'Problem': [{'Name': 'x9', 'Lower bound': 6.5, 'Upper bound': 6.5, 'Number of objectives': 1, 'Number of constraints': 18, 'Number of variables': 9, 'Number of binary variables': 0, 'Number of integer variables': 0, 'Number of continuous variables': 9, 'Number of nonzeros': 29, 'Sense': 'minimize'}], 'Solver': [{'Status': 'ok', 'Return code': '0', 'Message': 'Model was solved to optimality (subject to tolerances), and an optimal solution is available.', 'Termination condition': 'optimal', 'Termination message': 'Model was solved to optimality (subject to tolerances), and an optimal solution is available.', 'Wall time': '0.0', 'Error rc': 0, 'Time': 0.15060806274414062}], 'Solution': [OrderedDict([('number of solutions', 0), ('number of solutions displayed', 0)])]}"
      ]
     },
     "metadata": {},
     "execution_count": 73
    }
   ],
   "metadata": {}
  },
  {
   "cell_type": "code",
   "execution_count": 74,
   "source": [
    "# result\r\n",
    "model.pprint()"
   ],
   "outputs": [
    {
     "output_type": "stream",
     "name": "stdout",
     "text": [
      "7 Set Declarations\n",
      "    Pg_index : Size=1, Index=None, Ordered=False\n",
      "        Key  : Dimen : Domain : Size : Members\n",
      "        None :     1 :    Any :    2 : {0, 1}\n",
      "    Pl_index : Size=1, Index=None, Ordered=False\n",
      "        Key  : Dimen : Domain : Size : Members\n",
      "        None :     1 :    Any :    3 : {0, 1, 2}\n",
      "    balanco_index : Size=1, Index=None, Ordered=Insertion\n",
      "        Key  : Dimen : Domain : Size : Members\n",
      "        None :     1 :    Any :    3 : {1, 2, 3}\n",
      "    fluxo_index : Size=1, Index=None, Ordered=Insertion\n",
      "        Key  : Dimen : Domain : Size : Members\n",
      "        None :     1 :    Any :    3 : {1, 2, 3}\n",
      "    limflux_index : Size=1, Index=None, Ordered=Insertion\n",
      "        Key  : Dimen : Domain : Size : Members\n",
      "        None :     1 :    Any :    3 : {1, 2, 3}\n",
      "    limger_index : Size=1, Index=None, Ordered=Insertion\n",
      "        Key  : Dimen : Domain : Size : Members\n",
      "        None :     1 :    Any :    2 : {1, 2}\n",
      "    teta_index : Size=1, Index=None, Ordered=False\n",
      "        Key  : Dimen : Domain : Size : Members\n",
      "        None :     1 :    Any :    3 : {0, 1, 2}\n",
      "\n",
      "3 Var Declarations\n",
      "    Pg : Size=2, Index=Pg_index\n",
      "        Key : Lower : Value : Upper : Fixed : Stale : Domain\n",
      "          0 :  None :  20.0 :  None : False : False :  Reals\n",
      "          1 :  None :   5.0 :  None : False : False :  Reals\n",
      "    Pl : Size=3, Index=Pl_index\n",
      "        Key : Lower : Value : Upper : Fixed : Stale : Domain\n",
      "          0 :  None :   5.0 :  None : False : False :  Reals\n",
      "          1 :  None :  15.0 :  None : False : False :  Reals\n",
      "          2 :  None :  10.0 :  None : False : False :  Reals\n",
      "    teta : Size=3, Index=teta_index\n",
      "        Key : Lower              : Value                : Upper             : Fixed : Stale : Domain\n",
      "          0 : -3.141592653589793 :                  0.0 : 3.141592653589793 : False : False :  Reals\n",
      "          1 : -3.141592653589793 : -0.04999999999999982 : 3.141592653589793 : False : False :  Reals\n",
      "          2 : -3.141592653589793 :  -0.1499999999999999 : 3.141592653589793 : False : False :  Reals\n",
      "\n",
      "1 Objective Declarations\n",
      "    obj : Size=1, Index=None, Active=True\n",
      "        Key  : Active : Sense    : Expression\n",
      "        None :   True : minimize : 0.2*Pg[0] + 0.5*Pg[1]\n",
      "\n",
      "5 Constraint Declarations\n",
      "    balanco : Size=3, Index=balanco_index, Active=True\n",
      "        Key : Lower : Body                    : Upper : Active\n",
      "          1 :   0.0 : Pg[0] - (Pl[0] + Pl[1]) :   0.0 :   True\n",
      "          2 :   0.0 :   Pg[1] - Pl[2] + Pl[0] :   0.0 :   True\n",
      "          3 :  25.0 :           Pl[1] + Pl[2] :  25.0 :   True\n",
      "    fluxo : Size=3, Index=fluxo_index, Active=True\n",
      "        Key : Lower : Body                            : Upper : Active\n",
      "          1 :   0.0 : Pl[0] - 100*(teta[0] - teta[1]) :   0.0 :   True\n",
      "          2 :   0.0 : Pl[1] - 100*(teta[0] - teta[2]) :   0.0 :   True\n",
      "          3 :   0.0 : Pl[2] - 100*(teta[1] - teta[2]) :   0.0 :   True\n",
      "    limflux : Size=3, Index=limflux_index, Active=True\n",
      "        Key : Lower : Body  : Upper : Active\n",
      "          1 : -15.0 : Pl[0] :  15.0 :   True\n",
      "          2 : -15.0 : Pl[1] :  15.0 :   True\n",
      "          3 : -15.0 : Pl[2] :  15.0 :   True\n",
      "    limger : Size=2, Index=limger_index, Active=True\n",
      "        Key : Lower : Body  : Upper : Active\n",
      "          1 :   0.0 : Pg[0] :  20.0 :   True\n",
      "          2 :   0.0 : Pg[1] :  30.0 :   True\n",
      "    ref : Size=1, Index=None, Active=True\n",
      "        Key  : Lower : Body    : Upper : Active\n",
      "        None :   0.0 : teta[0] :   0.0 :   True\n",
      "\n",
      "16 Declarations: Pg_index Pg Pl_index Pl teta_index teta obj balanco_index balanco fluxo_index fluxo limger_index limger limflux_index limflux ref\n"
     ]
    }
   ],
   "metadata": {}
  }
 ],
 "metadata": {
  "orig_nbformat": 4,
  "language_info": {
   "name": "python",
   "version": "3.9.6",
   "mimetype": "text/x-python",
   "codemirror_mode": {
    "name": "ipython",
    "version": 3
   },
   "pygments_lexer": "ipython3",
   "nbconvert_exporter": "python",
   "file_extension": ".py"
  },
  "kernelspec": {
   "name": "python3",
   "display_name": "Python 3.9.6 64-bit ('v_curso': venv)"
  },
  "interpreter": {
   "hash": "3833a32d759121e425366ecddab53db88ab64bd0ecbdef7889e4f76650b727b2"
  }
 },
 "nbformat": 4,
 "nbformat_minor": 2
}