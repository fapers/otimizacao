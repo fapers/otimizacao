{
 "cells": [
  {
   "cell_type": "code",
   "execution_count": 69,
   "source": [
    "import pandas as pd, numpy as np\r\n",
    "from ortools.sat.python import cp_model"
   ],
   "outputs": [],
   "metadata": {}
  },
  {
   "cell_type": "code",
   "execution_count": 70,
   "source": [
    "# entrada\r\n",
    "nos = pd.read_excel('rotas_inputs.xlsx', sheet_name='nos')\r\n",
    "caminhos = pd.read_excel('rotas_inputs.xlsx', sheet_name='caminhos')\r\n",
    "n_nos = len(nos)\r\n",
    "n_caminhos = len(caminhos)"
   ],
   "outputs": [],
   "metadata": {}
  },
  {
   "cell_type": "code",
   "execution_count": 71,
   "source": [
    "# modelo\r\n",
    "model = cp_model.CpModel()\r\n",
    "x = np.zeros(n_caminhos).tolist()\r\n",
    "for c in caminhos.index:\r\n",
    "    # Caso duas dimensões f'x[{[x, y]}]\r\n",
    "    x[c] = model.NewIntVar(0,1, f'x[{[c]}]')"
   ],
   "outputs": [],
   "metadata": {}
  },
  {
   "cell_type": "code",
   "execution_count": 72,
   "source": [
    "# Função objetivo\r\n",
    "model.Minimize(sum([x[c] * caminhos.distancia[c] for c in caminhos.index]))"
   ],
   "outputs": [],
   "metadata": {}
  },
  {
   "cell_type": "code",
   "execution_count": 73,
   "source": [
    "# Restrições\r\n",
    "# Define os nos de origem e destino\r\n",
    "no_origem = int(nos.no[nos.desc=='origem'])\r\n",
    "no_destino = int(nos.no[nos.desc=='destino'])\r\n",
    "\r\n",
    "# Define os outros nos\r\n",
    "model.Add(sum([x[c] for c in caminhos.index[caminhos.no_de==no_origem]])==1)\r\n",
    "model.Add(sum([x[c] for c in caminhos.index[caminhos.no_para==no_destino]])==1)\r\n",
    "\r\n",
    "# Somatório\r\n",
    "for no in nos.no[nos.desc=='meio']:\r\n",
    "    sum_entra = sum([x[c] for c in caminhos.index[caminhos.no_para==no]])\r\n",
    "    sum_sai = sum([x[c] for c in caminhos.index[caminhos.no_de==no]])\r\n",
    "    model.Add(sum_sai <= 1)\r\n",
    "    model.Add(sum_entra <= 1)\r\n",
    "    model.Add(sum_entra == sum_sai)"
   ],
   "outputs": [],
   "metadata": {}
  },
  {
   "cell_type": "code",
   "execution_count": 74,
   "source": [
    "# Solver\r\n",
    "solver = cp_model.CpSolver()\r\n",
    "status = solver.Solve(model)"
   ],
   "outputs": [],
   "metadata": {}
  },
  {
   "cell_type": "code",
   "execution_count": 79,
   "source": [
    "# Impressão\r\n",
    "print(f'Status = {solver.StatusName(status)}')\r\n",
    "print(f'FO = {solver.ObjectiveValue()}')\r\n",
    "caminhos['ativado'] = 0\r\n",
    "for c in caminhos.index:\r\n",
    "    caminhos.ativado[c] = solver.Value(x[c])\r\n",
    "print(caminhos)\r\n",
    "\r\n",
    "print('Rota escolhida')\r\n",
    "for c in caminhos.index[caminhos.ativado==1]:\r\n",
    "    print(f'X{caminhos.no_de[c]}{caminhos.no_para[c]} - {caminhos.distancia[c]}')"
   ],
   "outputs": [
    {
     "output_type": "stream",
     "name": "stdout",
     "text": [
      "Status = OPTIMAL\n",
      "FO = 1370.0\n",
      "   no_de  no_para  distancia  ativado\n",
      "0      1        2        220        1\n",
      "1      1        3       1500        0\n",
      "2      2        4        650        1\n",
      "3      2        5        900        0\n",
      "4      4        7        500        1\n",
      "5      5        7        400        0\n",
      "6      3        6        500        0\n",
      "7      6        7        400        0\n",
      "Rota escolhida\n",
      "X12 - 220\n",
      "X24 - 650\n",
      "X47 - 500\n"
     ]
    }
   ],
   "metadata": {}
  }
 ],
 "metadata": {
  "orig_nbformat": 4,
  "language_info": {
   "name": "python",
   "version": "3.9.6",
   "mimetype": "text/x-python",
   "codemirror_mode": {
    "name": "ipython",
    "version": 3
   },
   "pygments_lexer": "ipython3",
   "nbconvert_exporter": "python",
   "file_extension": ".py"
  },
  "kernelspec": {
   "name": "python3",
   "display_name": "Python 3.9.6 64-bit ('v_curso': venv)"
  },
  "interpreter": {
   "hash": "3833a32d759121e425366ecddab53db88ab64bd0ecbdef7889e4f76650b727b2"
  }
 },
 "nbformat": 4,
 "nbformat_minor": 2
}