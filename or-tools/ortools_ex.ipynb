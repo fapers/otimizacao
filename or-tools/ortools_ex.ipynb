{
 "cells": [
  {
   "cell_type": "code",
   "execution_count": 28,
   "source": [
    "import ortools.linear_solver.pywraplp as otlp"
   ],
   "outputs": [],
   "metadata": {}
  },
  {
   "cell_type": "code",
   "execution_count": 29,
   "source": [
    "solver = otlp.Solver('teste',otlp.Solver.GLOP_LINEAR_PROGRAMMING)\r\n",
    "# solver = otlp.Solver('teste',otlp.Solver.GUROBI_LINEAR_PROGRAMMING)\r\n",
    "# solver = otlp.Solver('teste',otlp.Solver.SCIP_MIXED_INTEGER_PROGRAMMING)\r\n",
    "# solver = otlp.Solver('teste',otlp.Solver.GUROBI_MIXED_INTEGER_PROGRAMMING)\r\n",
    "# solver = otlp.Solver('teste',otlp.Solver.CBC_MIXED_INTEGER_PROGRAMMING)"
   ],
   "outputs": [],
   "metadata": {}
  },
  {
   "cell_type": "code",
   "execution_count": 30,
   "source": [
    "# Variáveis\r\n",
    "x = solver.NumVar(0,10,'x')\r\n",
    "y = solver.NumVar(0,10,'y')"
   ],
   "outputs": [],
   "metadata": {}
  },
  {
   "cell_type": "code",
   "execution_count": 31,
   "source": [
    "# Restrições\r\n",
    "solver.Add(-x+2*y<=8)\r\n",
    "solver.Add(2*x+y<=14)\r\n",
    "solver.Add(2*x-y<=10)"
   ],
   "outputs": [
    {
     "output_type": "execute_result",
     "data": {
      "text/plain": [
       "<ortools.linear_solver.pywraplp.Constraint; proxy of <Swig Object of type 'operations_research::MPConstraint *' at 0x000001B28D4FC540> >"
      ]
     },
     "metadata": {},
     "execution_count": 31
    }
   ],
   "metadata": {}
  },
  {
   "cell_type": "code",
   "execution_count": 32,
   "source": [
    "# Função objetivo\r\n",
    "solver.Maximize(x+y)"
   ],
   "outputs": [],
   "metadata": {}
  },
  {
   "cell_type": "code",
   "execution_count": 33,
   "source": [
    "# Resultados\r\n",
    "results = solver.Solve()"
   ],
   "outputs": [],
   "metadata": {}
  },
  {
   "cell_type": "code",
   "execution_count": 34,
   "source": [
    "if results==otlp.Solver.OPTIMAL:\r\n",
    "    print('Resultado Encontrado!')\r\n",
    "else:\r\n",
    "    print('Resultado NÃO encontrado')\r\n",
    "\r\n",
    "print(f'x={x.solution_value()}')\r\n",
    "print(f'y={y.solution_value()}')"
   ],
   "outputs": [
    {
     "output_type": "stream",
     "name": "stdout",
     "text": [
      "Resultado Encontrado!\n",
      "x=4.0\n",
      "y=6.0\n"
     ]
    }
   ],
   "metadata": {}
  }
 ],
 "metadata": {
  "orig_nbformat": 4,
  "language_info": {
   "name": "python",
   "version": "3.9.6",
   "mimetype": "text/x-python",
   "codemirror_mode": {
    "name": "ipython",
    "version": 3
   },
   "pygments_lexer": "ipython3",
   "nbconvert_exporter": "python",
   "file_extension": ".py"
  },
  "kernelspec": {
   "name": "python3",
   "display_name": "Python 3.9.6 64-bit ('v_curso': venv)"
  },
  "interpreter": {
   "hash": "3833a32d759121e425366ecddab53db88ab64bd0ecbdef7889e4f76650b727b2"
  }
 },
 "nbformat": 4,
 "nbformat_minor": 2
}