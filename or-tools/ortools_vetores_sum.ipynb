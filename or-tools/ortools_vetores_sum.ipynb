{
 "cells": [
  {
   "cell_type": "code",
   "execution_count": 59,
   "source": [
    "import pandas as pd, numpy as np"
   ],
   "outputs": [],
   "metadata": {}
  },
  {
   "cell_type": "code",
   "execution_count": 60,
   "source": [
    "import ortools.linear_solver.pywraplp as otlp"
   ],
   "outputs": [],
   "metadata": {}
  },
  {
   "cell_type": "code",
   "execution_count": 61,
   "source": [
    "# Entrada\r\n",
    "dados_ger = pd.read_excel('inputs_dados.xlsx', sheet_name='geracao')\r\n",
    "dados_carga = pd.read_excel('inputs_dados.xlsx', sheet_name='carga')\r\n",
    "dados_dep = pd.read_excel('inputs_dados.xlsx', sheet_name='dependencia')\r\n",
    "Ng = len(dados_ger) # Número de geradores (quantas linhas possui o dataframe dados_ger)"
   ],
   "outputs": [],
   "metadata": {}
  },
  {
   "cell_type": "code",
   "execution_count": 62,
   "source": [
    "# Modelo\r\n",
    "solver = otlp.Solver('teste', otlp.Solver.GLOP_LINEAR_PROGRAMMING)"
   ],
   "outputs": [],
   "metadata": {}
  },
  {
   "cell_type": "code",
   "execution_count": 26,
   "source": [
    "# Variáveis de entrada modelo para 2 dimensões\r\n",
    "Pg = np.zeros([3,Ng]).tolist()\r\n",
    "for t in range(3):\r\n",
    "    for g in range(Ng):\r\n",
    "        # Pg[g] = solver.NumVar(0, float(dados_ger.maximo[g]), 'Pg[{}]'.format([g]))\r\n",
    "        Pg[t][g] = solver.NumVar(0, float(dados_ger.maximo[g]),f'Pg[{[t,g]}]')"
   ],
   "outputs": [],
   "metadata": {}
  },
  {
   "cell_type": "code",
   "execution_count": 63,
   "source": [
    "# Variáveis de entrada para 1 dimensão\r\n",
    "Pg = np.zeros(Ng).tolist()\r\n",
    "for g in range(Ng):\r\n",
    "    # Pg[g] = solver.NumVar(0, float(dados_ger.maximo[g]), 'Pg[{}]'.format([g]))\r\n",
    "    Pg[g] = solver.NumVar(0, float(dados_ger.maximo[g]),f'Pg[{[g]}]')"
   ],
   "outputs": [],
   "metadata": {}
  },
  {
   "cell_type": "code",
   "execution_count": 64,
   "source": [
    "# Restrições\r\n",
    "solver.Add(sum([Pg[g] for g in range(Ng)])==sum(dados_carga.valor))\r\n",
    "for c in dados_dep.carga.unique():\r\n",
    "    solver.Add(float(dados_carga.valor[c]) <= sum([Pg[g] for g in dados_dep.gerador[dados_dep.carga==c]]))"
   ],
   "outputs": [],
   "metadata": {}
  },
  {
   "cell_type": "code",
   "execution_count": 65,
   "source": [
    "# Função objetivo\r\n",
    "solver.Minimize(sum([Pg[g]*float(dados_ger.custo[g]) for g in range(Ng)]))"
   ],
   "outputs": [],
   "metadata": {}
  },
  {
   "cell_type": "code",
   "execution_count": 66,
   "source": [
    "# Resultado\r\n",
    "results = solver.Solve()"
   ],
   "outputs": [],
   "metadata": {}
  },
  {
   "cell_type": "code",
   "execution_count": 67,
   "source": [
    "# Impressão do resultado\r\n",
    "if results == otlp.Solver.OPTIMAL:\r\n",
    "    print('Resultado encontrado')\r\n",
    "else:\r\n",
    "    print(\"Resultado NÃO encontrado\")\r\n",
    "    \r\n",
    "for g in range(Ng):\r\n",
    "    print(f'Pg[{g}] = {Pg[g].solution_value()}')"
   ],
   "outputs": [
    {
     "output_type": "stream",
     "name": "stdout",
     "text": [
      "Resultado encontrado\n",
      "Pg[0] = 20.0\n",
      "Pg[1] = 10.0\n",
      "Pg[2] = 35.0\n",
      "Pg[3] = 30.0\n",
      "Pg[4] = 5.0\n"
     ]
    }
   ],
   "metadata": {}
  },
  {
   "cell_type": "code",
   "execution_count": 69,
   "source": [
    "print(dados_ger)\r\n",
    "print(dados_carga)"
   ],
   "outputs": [
    {
     "output_type": "stream",
     "name": "stdout",
     "text": [
      "   id  maximo  custo\n",
      "0   0      20   0.10\n",
      "1   1      10   0.05\n",
      "2   2      40   0.30\n",
      "3   3      50   0.40\n",
      "4   4       5   0.01\n",
      "   id  valor\n",
      "0   0     50\n",
      "1   1     20\n",
      "2   2     30\n"
     ]
    }
   ],
   "metadata": {}
  }
 ],
 "metadata": {
  "orig_nbformat": 4,
  "language_info": {
   "name": "python",
   "version": "3.9.6",
   "mimetype": "text/x-python",
   "codemirror_mode": {
    "name": "ipython",
    "version": 3
   },
   "pygments_lexer": "ipython3",
   "nbconvert_exporter": "python",
   "file_extension": ".py"
  },
  "kernelspec": {
   "name": "python3",
   "display_name": "Python 3.9.6 64-bit ('v_curso': venv)"
  },
  "interpreter": {
   "hash": "3833a32d759121e425366ecddab53db88ab64bd0ecbdef7889e4f76650b727b2"
  }
 },
 "nbformat": 4,
 "nbformat_minor": 2
}