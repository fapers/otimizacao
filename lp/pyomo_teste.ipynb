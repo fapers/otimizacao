{
 "cells": [
  {
   "cell_type": "code",
   "execution_count": 15,
   "source": [
    "import pyomo.environ as pyo\r\n",
    "from pyomo.environ import *\r\n",
    "from pyomo.opt import SolverFactory\r\n",
    "import time\r\n",
    "ini = time.time()"
   ],
   "outputs": [],
   "metadata": {}
  },
  {
   "cell_type": "code",
   "execution_count": 7,
   "source": [
    "model = pyo.ConcreteModel()"
   ],
   "outputs": [],
   "metadata": {}
  },
  {
   "cell_type": "code",
   "execution_count": 8,
   "source": [
    "# Variáveis de definição\r\n",
    "model.x = pyo.Var(bounds=(0,3))\r\n",
    "model.y = pyo.Var(bounds=(0,10))\r\n",
    "x = model.x\r\n",
    "y = model.y"
   ],
   "outputs": [],
   "metadata": {}
  },
  {
   "cell_type": "code",
   "execution_count": 9,
   "source": [
    "# Restrições\r\n",
    "model.C1 = pyo.Constraint(expr=x+y<=8)\r\n",
    "model.C2 = pyo.Constraint(expr=8*x+3*y>=-24)\r\n",
    "model.C3 = pyo.Constraint(expr=-6*x+8*y<=48)\r\n",
    "model.C4 = pyo.Constraint(expr=3*x+5*y<=15)"
   ],
   "outputs": [],
   "metadata": {}
  },
  {
   "cell_type": "code",
   "execution_count": 10,
   "source": [
    "# Função Objetivo\r\n",
    "model.obj = pyo.Objective(expr=-4*x-2*y, sense=minimize)"
   ],
   "outputs": [],
   "metadata": {}
  },
  {
   "cell_type": "code",
   "execution_count": 11,
   "source": [
    "# Solução\r\n",
    "opt = SolverFactory('glpk', executable='C:\\\\glpk-4.65\\\\w64\\\\glpsol.exe')\r\n",
    "opt.solve(model)"
   ],
   "outputs": [
    {
     "output_type": "execute_result",
     "data": {
      "text/plain": [
       "{'Problem': [{'Name': 'unknown', 'Lower bound': -14.4, 'Upper bound': -14.4, 'Number of objectives': 1, 'Number of constraints': 5, 'Number of variables': 3, 'Number of nonzeros': 9, 'Sense': 'minimize'}], 'Solver': [{'Status': 'ok', 'Termination condition': 'optimal', 'Statistics': {'Branch and bound': {'Number of bounded subproblems': 0, 'Number of created subproblems': 0}}, 'Error rc': 0, 'Time': 0.04901695251464844}], 'Solution': [OrderedDict([('number of solutions', 0), ('number of solutions displayed', 0)])]}"
      ]
     },
     "metadata": {},
     "execution_count": 11
    }
   ],
   "metadata": {}
  },
  {
   "cell_type": "code",
   "execution_count": 12,
   "source": [
    "x_value = pyo.value(x)\r\n",
    "y_value = pyo.value(y)"
   ],
   "outputs": [],
   "metadata": {}
  },
  {
   "cell_type": "code",
   "execution_count": 17,
   "source": [
    "print('\\n---------------------------------------------------------------------')\r\n",
    "print('x=',x_value)\r\n",
    "print('y=',y_value)\r\n",
    "fim = time.time()\r\n",
    "print(\"Função soma1: \", fim-ini)"
   ],
   "outputs": [
    {
     "output_type": "stream",
     "name": "stdout",
     "text": [
      "\n",
      "---------------------------------------------------------------------\n",
      "x= 3.0\n",
      "y= 1.2\n",
      "Função soma1:  41.5650794506073\n"
     ]
    }
   ],
   "metadata": {}
  }
 ],
 "metadata": {
  "orig_nbformat": 4,
  "language_info": {
   "name": "python",
   "version": "3.9.6",
   "mimetype": "text/x-python",
   "codemirror_mode": {
    "name": "ipython",
    "version": 3
   },
   "pygments_lexer": "ipython3",
   "nbconvert_exporter": "python",
   "file_extension": ".py"
  },
  "kernelspec": {
   "name": "python3",
   "display_name": "Python 3.9.6 64-bit ('v_curso': venv)"
  },
  "interpreter": {
   "hash": "3833a32d759121e425366ecddab53db88ab64bd0ecbdef7889e4f76650b727b2"
  }
 },
 "nbformat": 4,
 "nbformat_minor": 2
}