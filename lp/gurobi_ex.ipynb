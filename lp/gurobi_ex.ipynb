{
 "cells": [
  {
   "cell_type": "code",
   "execution_count": 10,
   "source": [
    "from gurobipy import *"
   ],
   "outputs": [],
   "metadata": {}
  },
  {
   "cell_type": "code",
   "execution_count": 11,
   "source": [
    "model = Model('exemplo')"
   ],
   "outputs": [],
   "metadata": {}
  },
  {
   "cell_type": "code",
   "execution_count": 16,
   "source": [
    "# Variáveis\r\n",
    "x = model.addVar(obj=1, vtype='C', name='x')\r\n",
    "y = model.addVar(obj=1, vtype='C', name='y')\r\n",
    "model.update()"
   ],
   "outputs": [],
   "metadata": {}
  },
  {
   "cell_type": "code",
   "execution_count": 17,
   "source": [
    "# Restrições\r\n",
    "L1 = LinExpr([-1,2],[x,y])\r\n",
    "model.addConstr(L1,\"<\",8)\r\n",
    "\r\n",
    "L2 = LinExpr([2,1],[x,y])\r\n",
    "model.addConstr(L2,\"<\",14)\r\n",
    "\r\n",
    "L3 = LinExpr([2,-1],[x,y])\r\n",
    "model.addConstr(L3,\"<\",10)"
   ],
   "outputs": [
    {
     "output_type": "execute_result",
     "data": {
      "text/plain": [
       "<gurobi.Constr *Awaiting Model Update*>"
      ]
     },
     "metadata": {},
     "execution_count": 17
    }
   ],
   "metadata": {}
  },
  {
   "cell_type": "code",
   "execution_count": 22,
   "source": [
    "model.addConstr(-x+2*y<=8)\r\n",
    "model.addConstr(2*x+y<=14)\r\n",
    "model.addConstr(2*x-y<=10)"
   ],
   "outputs": [
    {
     "output_type": "execute_result",
     "data": {
      "text/plain": [
       "<gurobi.Constr *Awaiting Model Update*>"
      ]
     },
     "metadata": {},
     "execution_count": 22
    }
   ],
   "metadata": {}
  },
  {
   "cell_type": "code",
   "execution_count": 23,
   "source": [
    "# Função objetivo\r\n",
    "model.ModelSense = -1\r\n",
    "model.optimize()"
   ],
   "outputs": [
    {
     "output_type": "stream",
     "name": "stdout",
     "text": [
      "Gurobi Optimizer version 9.1.2 build v9.1.2rc0 (win64)\n",
      "Thread count: 6 physical cores, 12 logical processors, using up to 12 threads\n",
      "Optimize a model with 10 rows, 4 columns and 20 nonzeros\n",
      "Coefficient statistics:\n",
      "  Matrix range     [1e+00, 2e+00]\n",
      "  Objective range  [1e+00, 1e+00]\n",
      "  Bounds range     [0e+00, 0e+00]\n",
      "  RHS range        [8e+00, 1e+01]\n",
      "Iteration    Objective       Primal Inf.    Dual Inf.      Time\n",
      "       0    2.0000000e+01   0.000000e+00   0.000000e+00      0s\n",
      "\n",
      "Solved in 0 iterations and 0.00 seconds\n",
      "Optimal objective  2.000000000e+01\n"
     ]
    }
   ],
   "metadata": {}
  },
  {
   "cell_type": "code",
   "execution_count": 24,
   "source": [
    "print('x=',x.X)\r\n",
    "print('y=',y.X)"
   ],
   "outputs": [
    {
     "output_type": "stream",
     "name": "stdout",
     "text": [
      "x= 4.0\n",
      "y= 6.0\n"
     ]
    }
   ],
   "metadata": {}
  }
 ],
 "metadata": {
  "orig_nbformat": 4,
  "language_info": {
   "name": "python",
   "version": "3.9.6",
   "mimetype": "text/x-python",
   "codemirror_mode": {
    "name": "ipython",
    "version": 3
   },
   "pygments_lexer": "ipython3",
   "nbconvert_exporter": "python",
   "file_extension": ".py"
  },
  "kernelspec": {
   "name": "python3",
   "display_name": "Python 3.9.6 64-bit ('v_curso': venv)"
  },
  "interpreter": {
   "hash": "3833a32d759121e425366ecddab53db88ab64bd0ecbdef7889e4f76650b727b2"
  }
 },
 "nbformat": 4,
 "nbformat_minor": 2
}