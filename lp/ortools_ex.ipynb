{
 "cells": [
  {
   "cell_type": "code",
   "execution_count": 2,
   "source": [
    "import ortools.linear_solver.pywraplp as otlp"
   ],
   "outputs": [],
   "metadata": {}
  },
  {
   "cell_type": "code",
   "execution_count": 3,
   "source": [
    "solver = otlp.Solver('teste',otlp.Solver.GLOP_LINEAR_PROGRAMMING)"
   ],
   "outputs": [],
   "metadata": {}
  },
  {
   "cell_type": "code",
   "execution_count": 4,
   "source": [
    "# Variáveis\r\n",
    "x = solver.NumVar(0,10,'x')\r\n",
    "y = solver.NumVar(0,10,'y')"
   ],
   "outputs": [],
   "metadata": {}
  },
  {
   "cell_type": "code",
   "execution_count": 5,
   "source": [
    "# Restrições\r\n",
    "minha_restricao = -x+2*y\r\n",
    "solver.Add(minha_restricao<=8)\r\n",
    "solver.Add(2*x+y<=14)\r\n",
    "solver.Add(2*x-y<=10)"
   ],
   "outputs": [
    {
     "output_type": "execute_result",
     "data": {
      "text/plain": [
       "<ortools.linear_solver.pywraplp.Constraint; proxy of <Swig Object of type 'operations_research::MPConstraint *' at 0x0000011A4D18F3C0> >"
      ]
     },
     "metadata": {},
     "execution_count": 5
    }
   ],
   "metadata": {}
  },
  {
   "cell_type": "code",
   "execution_count": 6,
   "source": [
    "# Função objetivo\r\n",
    "solver.Maximize(x+y)\r\n",
    "# solver.Minimize(x+y)"
   ],
   "outputs": [],
   "metadata": {}
  },
  {
   "cell_type": "code",
   "execution_count": 7,
   "source": [
    "results = solver.Solve()"
   ],
   "outputs": [],
   "metadata": {}
  },
  {
   "cell_type": "code",
   "execution_count": 8,
   "source": [
    "if results==otlp.Solver.OPTIMAL:\r\n",
    "    print('Resultado Encontrado!')\r\n",
    "else:\r\n",
    "    print('Resultado NÃO encontrado')"
   ],
   "outputs": [
    {
     "output_type": "stream",
     "name": "stdout",
     "text": [
      "Resultado Encontrado!\n"
     ]
    }
   ],
   "metadata": {}
  },
  {
   "cell_type": "code",
   "execution_count": 9,
   "source": [
    "print(f'x={x.solution_value()}')\r\n",
    "print(f'y={y.solution_value()}')"
   ],
   "outputs": [
    {
     "output_type": "stream",
     "name": "stdout",
     "text": [
      "x=4.0\n",
      "y=6.0\n"
     ]
    }
   ],
   "metadata": {}
  }
 ],
 "metadata": {
  "orig_nbformat": 4,
  "language_info": {
   "name": "python",
   "version": "3.9.6",
   "mimetype": "text/x-python",
   "codemirror_mode": {
    "name": "ipython",
    "version": 3
   },
   "pygments_lexer": "ipython3",
   "nbconvert_exporter": "python",
   "file_extension": ".py"
  },
  "kernelspec": {
   "name": "python3",
   "display_name": "Python 3.9.6 64-bit ('v_curso': venv)"
  },
  "interpreter": {
   "hash": "3833a32d759121e425366ecddab53db88ab64bd0ecbdef7889e4f76650b727b2"
  }
 },
 "nbformat": 4,
 "nbformat_minor": 2
}