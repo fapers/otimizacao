{
 "cells": [
  {
   "cell_type": "code",
   "execution_count": 77,
   "source": [
    "import pyomo.environ as pyo\r\n",
    "from pyomo.environ import *\r\n",
    "from pyomo.opt import SolverFactory\r\n",
    "import numpy as np"
   ],
   "outputs": [],
   "metadata": {}
  },
  {
   "cell_type": "code",
   "execution_count": 78,
   "source": [
    "# Modelo\r\n",
    "model = pyo.ConcreteModel()"
   ],
   "outputs": [],
   "metadata": {}
  },
  {
   "cell_type": "code",
   "execution_count": 79,
   "source": [
    "# Variáveis\r\n",
    "model.x = pyo.Var(range(1,6), bounds=(0,np.inf))\r\n",
    "model.y = pyo.Var(bounds=(0,np.inf))\r\n",
    "x = model.x\r\n",
    "y = model.y"
   ],
   "outputs": [],
   "metadata": {}
  },
  {
   "cell_type": "code",
   "execution_count": 80,
   "source": [
    "# Restrições\r\n",
    "model.C1 = pyo.Constraint(expr=sum(x)+y <= 20)\r\n",
    "\r\n",
    "model.C2 = pyo.ConstraintList()\r\n",
    "for i in range(1,6):\r\n",
    "    model.C2.add(expr=float(x[i])+y >= 15)\r\n",
    "\r\n",
    "model.C3 = pyo.ConstraintList()\r\n",
    "for i in range(1,6):\r\n",
    "    model.C3.add(expr=sum(i*float(x[i]))>=10)\r\n",
    "\r\n",
    "# model.C4 = pyo.Constraint(x[5]+2*y>=30)"
   ],
   "outputs": [
    {
     "output_type": "error",
     "ename": "TypeError",
     "evalue": "Implicit conversion of Pyomo NumericValue type `x[1]' to a float is\ndisabled. This error is often the result of using Pyomo components as\narguments to one of the Python built-in math module functions when\ndefining expressions. Avoid this error by using Pyomo-provided math\nfunctions.",
     "traceback": [
      "\u001b[1;31m---------------------------------------------------------------------------\u001b[0m",
      "\u001b[1;31mTypeError\u001b[0m                                 Traceback (most recent call last)",
      "\u001b[1;32m~\\AppData\\Local\\Temp/ipykernel_4676/1016418354.py\u001b[0m in \u001b[0;36m<module>\u001b[1;34m\u001b[0m\n\u001b[0;32m      4\u001b[0m \u001b[0mmodel\u001b[0m\u001b[1;33m.\u001b[0m\u001b[0mC2\u001b[0m \u001b[1;33m=\u001b[0m \u001b[0mpyo\u001b[0m\u001b[1;33m.\u001b[0m\u001b[0mConstraintList\u001b[0m\u001b[1;33m(\u001b[0m\u001b[1;33m)\u001b[0m\u001b[1;33m\u001b[0m\u001b[1;33m\u001b[0m\u001b[0m\n\u001b[0;32m      5\u001b[0m \u001b[1;32mfor\u001b[0m \u001b[0mi\u001b[0m \u001b[1;32min\u001b[0m \u001b[0mrange\u001b[0m\u001b[1;33m(\u001b[0m\u001b[1;36m1\u001b[0m\u001b[1;33m,\u001b[0m\u001b[1;36m6\u001b[0m\u001b[1;33m)\u001b[0m\u001b[1;33m:\u001b[0m\u001b[1;33m\u001b[0m\u001b[1;33m\u001b[0m\u001b[0m\n\u001b[1;32m----> 6\u001b[1;33m     \u001b[0mmodel\u001b[0m\u001b[1;33m.\u001b[0m\u001b[0mC2\u001b[0m\u001b[1;33m.\u001b[0m\u001b[0madd\u001b[0m\u001b[1;33m(\u001b[0m\u001b[0mexpr\u001b[0m\u001b[1;33m=\u001b[0m\u001b[0mfloat\u001b[0m\u001b[1;33m(\u001b[0m\u001b[0mx\u001b[0m\u001b[1;33m[\u001b[0m\u001b[0mi\u001b[0m\u001b[1;33m]\u001b[0m\u001b[1;33m)\u001b[0m\u001b[1;33m+\u001b[0m\u001b[0my\u001b[0m \u001b[1;33m>=\u001b[0m \u001b[1;36m15\u001b[0m\u001b[1;33m)\u001b[0m\u001b[1;33m\u001b[0m\u001b[1;33m\u001b[0m\u001b[0m\n\u001b[0m\u001b[0;32m      7\u001b[0m \u001b[1;33m\u001b[0m\u001b[0m\n\u001b[0;32m      8\u001b[0m \u001b[0mmodel\u001b[0m\u001b[1;33m.\u001b[0m\u001b[0mC3\u001b[0m \u001b[1;33m=\u001b[0m \u001b[0mpyo\u001b[0m\u001b[1;33m.\u001b[0m\u001b[0mConstraintList\u001b[0m\u001b[1;33m(\u001b[0m\u001b[1;33m)\u001b[0m\u001b[1;33m\u001b[0m\u001b[1;33m\u001b[0m\u001b[0m\n",
      "\u001b[1;32mpyomo\\core\\expr\\numvalue.pyx\u001b[0m in \u001b[0;36mpyomo.core.expr.numvalue.NumericValue.__float__\u001b[1;34m()\u001b[0m\n",
      "\u001b[1;31mTypeError\u001b[0m: Implicit conversion of Pyomo NumericValue type `x[1]' to a float is\ndisabled. This error is often the result of using Pyomo components as\narguments to one of the Python built-in math module functions when\ndefining expressions. Avoid this error by using Pyomo-provided math\nfunctions."
     ]
    }
   ],
   "metadata": {}
  },
  {
   "cell_type": "code",
   "execution_count": null,
   "source": [
    "# Função objetivo\r\n",
    "model.obj = pyo.Objective(expr=sum(x)+y)"
   ],
   "outputs": [],
   "metadata": {}
  },
  {
   "cell_type": "code",
   "execution_count": null,
   "source": [
    "# Solução\r\n",
    "opt = SolverFactory('glpk')\r\n",
    "opt.solve(model)"
   ],
   "outputs": [],
   "metadata": {}
  },
  {
   "cell_type": "code",
   "execution_count": null,
   "source": [
    "# Impressão\r\n",
    "model.pprint()\r\n",
    "x_value = pyo.value(x)\r\n",
    "y_value = pyo.value(y)\r\n",
    "print(f'x= {x_value}')\r\n",
    "print(f'y= {y_value}')"
   ],
   "outputs": [],
   "metadata": {}
  },
  {
   "cell_type": "code",
   "execution_count": null,
   "source": [],
   "outputs": [],
   "metadata": {}
  }
 ],
 "metadata": {
  "orig_nbformat": 4,
  "language_info": {
   "name": "python",
   "version": "3.9.6",
   "mimetype": "text/x-python",
   "codemirror_mode": {
    "name": "ipython",
    "version": 3
   },
   "pygments_lexer": "ipython3",
   "nbconvert_exporter": "python",
   "file_extension": ".py"
  },
  "kernelspec": {
   "name": "python3",
   "display_name": "Python 3.9.6 64-bit ('v_curso': venv)"
  },
  "interpreter": {
   "hash": "3833a32d759121e425366ecddab53db88ab64bd0ecbdef7889e4f76650b727b2"
  }
 },
 "nbformat": 4,
 "nbformat_minor": 2
}