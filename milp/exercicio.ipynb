{
 "cells": [
  {
   "cell_type": "code",
   "execution_count": 116,
   "source": [
    "import time, numpy as np\r\n",
    "import pyomo.environ as pyo\r\n",
    "from pyomo.environ import *\r\n",
    "from pyomo.opt import SolverFactory"
   ],
   "outputs": [],
   "metadata": {}
  },
  {
   "cell_type": "code",
   "execution_count": 117,
   "source": [
    "# Modelo\r\n",
    "model = pyo.ConcreteModel()"
   ],
   "outputs": [],
   "metadata": {}
  },
  {
   "cell_type": "code",
   "execution_count": 118,
   "source": [
    "# Variáveis de definição\r\n",
    "model.x = pyo.Var(range(1,6), within=Integers, bounds=(0, None))\r\n",
    "model.y = pyo.Var(bounds=(0,None))\r\n",
    "x = model.x\r\n",
    "y = model.y"
   ],
   "outputs": [],
   "metadata": {}
  },
  {
   "cell_type": "code",
   "execution_count": 119,
   "source": [
    "# Restrições\r\n",
    "model.C1 = pyo.Constraint(expr = sum([x[i] for i in range(1,6)]) + y <= 20)\r\n",
    "\r\n",
    "model.C2 = pyo.ConstraintList()\r\n",
    "for i in range(1,6):\r\n",
    "    model.C2.add(expr = x[i] + y >= 15)\r\n",
    "\r\n",
    "model.C3 = pyo.Constraint(expr = sum([i * x[i] for i in range(1,6)]) >= 10)\r\n",
    "\r\n",
    "model.C4 = pyo.Constraint(expr = x[5] + 2 * y >= 30)"
   ],
   "outputs": [],
   "metadata": {}
  },
  {
   "cell_type": "code",
   "execution_count": 120,
   "source": [
    "# Função objetivo\r\n",
    "model.obj = pyo.Objective(expr=sum([x[i] for i in range(1,6)]) + y, sense=minimize)"
   ],
   "outputs": [],
   "metadata": {}
  },
  {
   "cell_type": "code",
   "execution_count": 122,
   "source": [
    "# Solução\r\n",
    "begin = time.time()\r\n",
    "opt = SolverFactory('gurobi')\r\n",
    "opt.solve(model)\r\n",
    "end = time.time() - begin"
   ],
   "outputs": [],
   "metadata": {}
  },
  {
   "cell_type": "code",
   "execution_count": 130,
   "source": [
    "# Impressão\r\n",
    "print('Tempo = ', np.round(end, 2))\r\n",
    "\r\n",
    "for i in range(1,6):\r\n",
    "    print(f'x[{i:.0f}] = {pyo.value(x[i]):.0f}')\r\n",
    "print(f'y = {pyo.value(y):.2f}')\r\n",
    "print(f'Obj = {pyo.value(model.obj)}')"
   ],
   "outputs": [
    {
     "output_type": "stream",
     "name": "stdout",
     "text": [
      "Tempo =  0.12\n",
      "x[1] = 0\n",
      "x[2] = -0\n",
      "x[3] = -0\n",
      "x[4] = -0\n",
      "x[5] = 2\n",
      "y = 15.00\n",
      "Obj = 17.0\n"
     ]
    }
   ],
   "metadata": {}
  },
  {
   "cell_type": "code",
   "execution_count": 108,
   "source": [
    "model.pprint()"
   ],
   "outputs": [
    {
     "output_type": "stream",
     "name": "stdout",
     "text": [
      "2 Set Declarations\n",
      "    C2_index : Size=1, Index=None, Ordered=Insertion\n",
      "        Key  : Dimen : Domain : Size : Members\n",
      "        None :     1 :    Any :    5 : {1, 2, 3, 4, 5}\n",
      "    x_index : Size=1, Index=None, Ordered=False\n",
      "        Key  : Dimen : Domain : Size : Members\n",
      "        None :     1 :    Any :    5 : {1, 2, 3, 4, 5}\n",
      "\n",
      "2 Var Declarations\n",
      "    x : Size=5, Index=x_index\n",
      "        Key : Lower : Value : Upper : Fixed : Stale : Domain\n",
      "          1 :     0 :  None :  None : False :  True : Integers\n",
      "          2 :     0 :  None :  None : False :  True : Integers\n",
      "          3 :     0 :  None :  None : False :  True : Integers\n",
      "          4 :     0 :  None :  None : False :  True : Integers\n",
      "          5 :     0 :  None :  None : False :  True : Integers\n",
      "    y : Size=1, Index=None\n",
      "        Key  : Lower : Value : Upper : Fixed : Stale : Domain\n",
      "        None :     0 :  None :  None : False :  True :  Reals\n",
      "\n",
      "4 Constraint Declarations\n",
      "    C1 : Size=1, Index=None, Active=True\n",
      "        Key  : Lower : Body                                 : Upper : Active\n",
      "        None :  -Inf : x[1] + x[2] + x[3] + x[4] + x[5] + y :  20.0 :   True\n",
      "    C2 : Size=5, Index=C2_index, Active=True\n",
      "        Key : Lower : Body     : Upper : Active\n",
      "          1 :  15.0 : x[1] + y :  +Inf :   True\n",
      "          2 :  15.0 : x[2] + y :  +Inf :   True\n",
      "          3 :  15.0 : x[3] + y :  +Inf :   True\n",
      "          4 :  15.0 : x[4] + y :  +Inf :   True\n",
      "          5 :  15.0 : x[5] + y :  +Inf :   True\n",
      "    C3 : Size=1, Index=None, Active=True\n",
      "        Key  : Lower : Body                                     : Upper : Active\n",
      "        None :  10.0 : x[1] + 2*x[2] + 3*x[3] + 4*x[4] + 5*x[5] :  +Inf :   True\n",
      "    C4 : Size=1, Index=None, Active=True\n",
      "        Key  : Lower : Body       : Upper : Active\n",
      "        None :  30.0 : x[5] + 2*y :  +Inf :   True\n",
      "\n",
      "8 Declarations: x_index x y C1 C2_index C2 C3 C4\n"
     ]
    }
   ],
   "metadata": {}
  }
 ],
 "metadata": {
  "orig_nbformat": 4,
  "language_info": {
   "name": "python",
   "version": "3.9.6",
   "mimetype": "text/x-python",
   "codemirror_mode": {
    "name": "ipython",
    "version": 3
   },
   "pygments_lexer": "ipython3",
   "nbconvert_exporter": "python",
   "file_extension": ".py"
  },
  "kernelspec": {
   "name": "python3",
   "display_name": "Python 3.9.6 64-bit ('v_curso': venv)"
  },
  "interpreter": {
   "hash": "3833a32d759121e425366ecddab53db88ab64bd0ecbdef7889e4f76650b727b2"
  }
 },
 "nbformat": 4,
 "nbformat_minor": 2
}