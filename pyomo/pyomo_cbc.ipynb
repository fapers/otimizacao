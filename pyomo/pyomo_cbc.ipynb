{
 "cells": [
  {
   "cell_type": "code",
   "execution_count": 34,
   "source": [
    "import pyomo.environ as pyo"
   ],
   "outputs": [],
   "metadata": {}
  },
  {
   "cell_type": "code",
   "execution_count": 35,
   "source": [
    "from pyomo.environ import *\r\n",
    "from pyomo.opt import SolverFactory"
   ],
   "outputs": [],
   "metadata": {}
  },
  {
   "cell_type": "code",
   "execution_count": 36,
   "source": [
    "model = pyo.ConcreteModel()"
   ],
   "outputs": [],
   "metadata": {}
  },
  {
   "cell_type": "code",
   "execution_count": 37,
   "source": [
    "# Variáveis\r\n",
    "model.x = pyo.Var(bounds=(0,10))\r\n",
    "model.y = pyo.Var(bounds=(0,10))\r\n",
    "x = model.x\r\n",
    "y = model.y"
   ],
   "outputs": [],
   "metadata": {}
  },
  {
   "cell_type": "code",
   "execution_count": 38,
   "source": [
    "# Restrições\r\n",
    "model.C1 = pyo.Constraint(expr=-x+2*y<=8)\r\n",
    "model.C2 = pyo.Constraint(expr=2*x+y<=14)\r\n",
    "model.C3 = pyo.Constraint(expr=2*x-y<=10)"
   ],
   "outputs": [],
   "metadata": {}
  },
  {
   "cell_type": "code",
   "execution_count": 39,
   "source": [
    "# Função objetivo\r\n",
    "model.obj = pyo.Objective(expr=x+y, sense=maximize)"
   ],
   "outputs": [],
   "metadata": {}
  },
  {
   "cell_type": "code",
   "execution_count": 40,
   "source": [
    "# opt = SolverFactory('glpk', executable='C:\\\\glpk-4.65\\\\w64\\\\glpsol.exe')\r\n",
    "# opt = SolverFactory('gurobi')\r\n",
    "opt = SolverFactory('cbc', executable='C:\\\\cbc\\\\bin\\\\cbc.exe')"
   ],
   "outputs": [],
   "metadata": {}
  },
  {
   "cell_type": "code",
   "execution_count": 41,
   "source": [
    "opt.solve(model)"
   ],
   "outputs": [
    {
     "output_type": "execute_result",
     "data": {
      "text/plain": [
       "{'Problem': [{'Name': 'unknown', 'Lower bound': 10.0, 'Upper bound': 10.0, 'Number of objectives': 1, 'Number of constraints': 4, 'Number of variables': 3, 'Number of nonzeros': 2, 'Sense': 'maximize'}], 'Solver': [{'Status': 'ok', 'User time': -1.0, 'System time': 0.01, 'Wallclock time': 0.0, 'Termination condition': 'optimal', 'Termination message': 'Model was solved to optimality (subject to tolerances), and an optimal solution is available.', 'Statistics': {'Branch and bound': {'Number of bounded subproblems': None, 'Number of created subproblems': None}, 'Black box': {'Number of iterations': 2}}, 'Error rc': 0, 'Time': 0.03900146484375}], 'Solution': [OrderedDict([('number of solutions', 0), ('number of solutions displayed', 0)])]}"
      ]
     },
     "metadata": {},
     "execution_count": 41
    }
   ],
   "metadata": {}
  },
  {
   "cell_type": "code",
   "execution_count": 42,
   "source": [
    "model.pprint()"
   ],
   "outputs": [
    {
     "output_type": "stream",
     "name": "stdout",
     "text": [
      "2 Var Declarations\n",
      "    x : Size=1, Index=None\n",
      "        Key  : Lower : Value : Upper : Fixed : Stale : Domain\n",
      "        None :     0 :   4.0 :    10 : False : False :  Reals\n",
      "    y : Size=1, Index=None\n",
      "        Key  : Lower : Value : Upper : Fixed : Stale : Domain\n",
      "        None :     0 :   6.0 :    10 : False : False :  Reals\n",
      "\n",
      "1 Objective Declarations\n",
      "    obj : Size=1, Index=None, Active=True\n",
      "        Key  : Active : Sense    : Expression\n",
      "        None :   True : maximize : x + y\n",
      "\n",
      "3 Constraint Declarations\n",
      "    C1 : Size=1, Index=None, Active=True\n",
      "        Key  : Lower : Body      : Upper : Active\n",
      "        None :  -Inf : - x + 2*y :   8.0 :   True\n",
      "    C2 : Size=1, Index=None, Active=True\n",
      "        Key  : Lower : Body    : Upper : Active\n",
      "        None :  -Inf : 2*x + y :  14.0 :   True\n",
      "    C3 : Size=1, Index=None, Active=True\n",
      "        Key  : Lower : Body    : Upper : Active\n",
      "        None :  -Inf : 2*x - y :  10.0 :   True\n",
      "\n",
      "6 Declarations: x y C1 C2 C3 obj\n"
     ]
    }
   ],
   "metadata": {}
  },
  {
   "cell_type": "code",
   "execution_count": 43,
   "source": [
    "x_value = pyo.value(x)\r\n",
    "y_value = pyo.value(y)\r\n",
    "\r\n",
    "print('x=',x_value)\r\n",
    "print('y=',y_value)"
   ],
   "outputs": [
    {
     "output_type": "stream",
     "name": "stdout",
     "text": [
      "x= 4.0\n",
      "y= 6.0\n"
     ]
    }
   ],
   "metadata": {}
  }
 ],
 "metadata": {
  "orig_nbformat": 4,
  "language_info": {
   "name": "python",
   "version": "3.9.6",
   "mimetype": "text/x-python",
   "codemirror_mode": {
    "name": "ipython",
    "version": 3
   },
   "pygments_lexer": "ipython3",
   "nbconvert_exporter": "python",
   "file_extension": ".py"
  },
  "kernelspec": {
   "name": "python3",
   "display_name": "Python 3.9.6 64-bit ('v_curso': venv)"
  },
  "interpreter": {
   "hash": "3833a32d759121e425366ecddab53db88ab64bd0ecbdef7889e4f76650b727b2"
  }
 },
 "nbformat": 4,
 "nbformat_minor": 2
}